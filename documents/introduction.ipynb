{
 "cells": [
  {
   "cell_type": "markdown",
   "metadata": {},
   "source": [
    "# Introduction to Reinforcement Learning"
   ]
  },
  {
   "cell_type": "markdown",
   "metadata": {},
   "source": [
    "This document aims to learn about the basic concepts of reinforcement learning.\n",
    "Our goal is to understand formulations and learning process in reinforcement learning using python programming.\n",
    "Learning with programming codes helps understand the mathematical expression intuitively and improve the programming skills.\n"
   ]
  },
  {
   "cell_type": "markdown",
   "metadata": {},
   "source": [
    "Before starting, we first grasp about the elements of a reinforcement learning system.\n",
    "\n",
    "- Agent : interacts with the environment to achieve a goal that maximizes the cumulative reward.\n",
    "- Environment : is where the agent lives and provides something for the agent to act.\n",
    "- policy : defines the learning agent's way of behaving at a given time. That is, a policy is a mapping from perceived states of the environment to actions to be taken when in those states.\n",
    "- reward : is a single number that the environment sends to the agent at each time step. It measures the effectness of taking a particular action.\n",
    "- reward signal : defines the goal in a reinforcement learning problem. That is, it defines the good and bad events for the agent.\n",
    "- value of a state : is the total amount of reward an agent can expect to accumulate over the future, starting from that state. "
   ]
  }
 ],
 "metadata": {
  "kernelspec": {
   "display_name": "Python 3.9.13 ('py39')",
   "language": "python",
   "name": "python3"
  },
  "language_info": {
   "codemirror_mode": {
    "name": "ipython",
    "version": 3
   },
   "file_extension": ".py",
   "mimetype": "text/x-python",
   "name": "python",
   "nbconvert_exporter": "python",
   "pygments_lexer": "ipython3",
   "version": "3.9.13"
  },
  "orig_nbformat": 4,
  "vscode": {
   "interpreter": {
    "hash": "a669543d128136374604d475fcc3fcd86e86a01fbaf91712b5afc1f582eb2f6e"
   }
  }
 },
 "nbformat": 4,
 "nbformat_minor": 2
}
